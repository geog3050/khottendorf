{
 "cells": [
  {
   "cell_type": "code",
   "execution_count": 46,
   "metadata": {},
   "outputs": [],
   "source": [
    "import arcpy"
   ]
  },
  {
   "cell_type": "code",
   "execution_count": 47,
   "metadata": {},
   "outputs": [],
   "source": [
    "#Set your workspace\n",
    "arcpy.env.workspace=\"C:/Users/khottendorf/OneDrive - University of Iowa/Documents/GEOG/Final Project\""
   ]
  },
  {
   "cell_type": "code",
   "execution_count": 48,
   "metadata": {},
   "outputs": [
    {
     "name": "stdout",
     "output_type": "stream",
     "text": [
      "C:/Users/khottendorf/OneDrive - University of Iowa/Documents/GEOG/Final Project\n"
     ]
    }
   ],
   "source": [
    "#Confirm workspace before continuing, will stop problems from developing\n",
    "#down the road if your workspace is not properly established\n",
    "print(arcpy.env.workspace)"
   ]
  },
  {
   "cell_type": "code",
   "execution_count": 49,
   "metadata": {},
   "outputs": [],
   "source": [
    "#Select your input raster. Mine is of Syrtis Major Planum on Mars, but this\n",
    "#raster can be from anywhere in the soloar system that we have elevation\n",
    "#information\n",
    "input_raster=\"C:/Users/khottendorf/OneDrive - University of Iowa/Documents/GEOG/Final Project/THEMIS_NightIR_ControlledMosaic_SyrtisMajor_00N45E_100mpp.tif\""
   ]
  },
  {
   "cell_type": "code",
   "execution_count": 50,
   "metadata": {},
   "outputs": [
    {
     "name": "stdout",
     "output_type": "stream",
     "text": [
      "C:/Users/khottendorf/OneDrive - University of Iowa/Documents/GEOG/Final Project/THEMIS_NightIR_ControlledMosaic_SyrtisMajor_00N45E_100mpp.tif\n"
     ]
    }
   ],
   "source": [
    "#Check to make sure you are uploading the correct raster\n",
    "print(input_raster)"
   ]
  },
  {
   "cell_type": "code",
   "execution_count": 51,
   "metadata": {},
   "outputs": [],
   "source": [
    "#Name and establish where you raster will end up in your computer once you \n",
    "#have created it\n",
    "output_slope_raster=\"C:/Users/khottendorf/OneDrive - University of Iowa/Documents/GEOG/Final Project/Mars_slope\""
   ]
  },
  {
   "cell_type": "code",
   "execution_count": 52,
   "metadata": {},
   "outputs": [
    {
     "name": "stdout",
     "output_type": "stream",
     "text": [
      "Slope raster created!\n"
     ]
    }
   ],
   "source": [
    "#Create your slope raster, and if there are issues the error messages will\n",
    "#help you guide you to fix them\n",
    "try:\n",
    "    out_slope=arcpy.sa.Slope(input_raster)\n",
    "    out_slope.save(output_slope_raster)\n",
    "    \n",
    "    print(\"Slope raster created!\")\n",
    "except arcpy.ExecuteError:\n",
    "    print(arcpy.GetMessages(2))\n",
    "except Exception as ex:\n",
    "    print(ex.args[0])"
   ]
  },
  {
   "cell_type": "code",
   "execution_count": 54,
   "metadata": {},
   "outputs": [],
   "source": [
    "#Pick you slope raster you just created\n",
    "input_slope=\"C:/Users/khottendorf/OneDrive - University of Iowa/Documents/GEOG/Final Project/mars_slope\""
   ]
  },
  {
   "cell_type": "code",
   "execution_count": 64,
   "metadata": {},
   "outputs": [],
   "source": [
    "#Use ArcPy to print out your raster properties and understand what your \n",
    "#minimum and maximum slopes are\n",
    "slope_min = arcpy.GetRasterProperties_management(input_slope, \"MINIMUM\")\n",
    "slope_max = arcpy.GetRasterProperties_management(input_slope, \"MAXIMUM\")\n",
    "aspect_min = arcpy.GetRasterProperties_management(input_aspect, \"MINIMUM\")\n",
    "aspect_max = arcpy.GetRasterProperties_management(input_aspect, \"MAXIMUM\")"
   ]
  },
  {
   "cell_type": "code",
   "execution_count": 65,
   "metadata": {},
   "outputs": [
    {
     "name": "stdout",
     "output_type": "stream",
     "text": [
      "0\n",
      "51.2919578552246\n"
     ]
    }
   ],
   "source": [
    "#Print out your derived minimums and maximums\n",
    "print(slope_min)\n",
    "print(slope_max)"
   ]
  },
  {
   "cell_type": "code",
   "execution_count": 57,
   "metadata": {},
   "outputs": [],
   "source": [
    "# Convert values to floats to be able to reclassify your slope values into a\n",
    "#new map\n",
    "slope_min = float(slope_min.getOutput(0))\n",
    "slope_max = float(slope_max.getOutput(0))"
   ]
  },
  {
   "cell_type": "code",
   "execution_count": 58,
   "metadata": {},
   "outputs": [],
   "source": [
    "# Name and establish where your reclassified slope files will be located in\n",
    "#your computer\n",
    "reclassified_slope_output = \"C:/Users/khottendorf/OneDrive - University of Iowa/Documents/GEOG/Final Project/reclassified_slope\""
   ]
  },
  {
   "cell_type": "code",
   "execution_count": 59,
   "metadata": {},
   "outputs": [
    {
     "ename": "RuntimeError",
     "evalue": "ERROR 010240: Could not save raster dataset to C:\\Users\\khottendorf\\OneDrive - University of Iowa\\Documents\\GEOG\\Final Project\\reclassified_slope with output format GRID.",
     "output_type": "error",
     "traceback": [
      "\u001b[0;31m---------------------------------------------------------------------------\u001b[0m\n\u001b[0;31mRuntimeError\u001b[0m                              Traceback (most recent call last)",
      "In  \u001b[0;34m[59]\u001b[0m:\nLine \u001b[0;34m6\u001b[0m:     reclassified_slope_raster.save(reclassified_slope_output)\n",
      "\u001b[0;31mRuntimeError\u001b[0m: ERROR 010240: Could not save raster dataset to C:\\Users\\khottendorf\\OneDrive - University of Iowa\\Documents\\GEOG\\Final Project\\reclassified_slope with output format GRID.\n\u001b[0;31m---------------------------------------------------------------------------\u001b[0m"
     ]
    }
   ],
   "source": [
    "# Reclassify slope and create your new map!\n",
    "slope_interval = 10\n",
    "slope_classes = int((slope_max - slope_min) / slope_interval) + 1\n",
    "remap_slope = arcpy.sa.RemapRange([[slope_min + i * slope_interval, slope_min + (i + 1) * slope_interval, i + 1] for i in range(slope_classes)])\n",
    "reclassified_slope_raster = arcpy.sa.Reclassify(input_slope, \"VALUE\", remap_slope)\n",
    "reclassified_slope_raster.save(reclassified_slope_output)"
   ]
  },
  {
   "cell_type": "code",
   "execution_count": null,
   "metadata": {},
   "outputs": [],
   "source": []
  }
 ],
 "metadata": {
  "kernelspec": {
   "display_name": "ArcGISPro",
   "language": "Python",
   "name": "python3"
  },
  "language_info": {
   "file_extension": ".py",
   "name": "python",
   "version": "3"
  }
 },
 "nbformat": 4,
 "nbformat_minor": 2
}
