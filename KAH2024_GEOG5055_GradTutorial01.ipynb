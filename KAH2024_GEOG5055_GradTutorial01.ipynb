{
 "cells": [
  {
   "cell_type": "code",
   "execution_count": 30,
   "metadata": {},
   "outputs": [],
   "source": [
    "import arcpy"
   ]
  },
  {
   "cell_type": "code",
   "execution_count": 33,
   "metadata": {},
   "outputs": [],
   "source": [
    "#Set your workspace, in other words pick where your notebook will be saved to and where you can draw data from. If in ArcMap it will\n",
    "#automatically save to the geodatabase that was created with your project.\n",
    "\n",
    "arcpy.env.workspace='C:/Users/khottendorf/OneDrive - University of Iowa/Documents/GEOG/chp9Data/chp9Data'\n",
    "\n",
    "#Printing your workspace can help you make sure that you did it correctly\n",
    "\n",
    "print(arcpy.env.workspace)"
   ]
  },
  {
   "cell_type": "code",
   "execution_count": null,
   "metadata": {},
   "outputs": [],
   "source": [
    "#Use the ListFields function in order to print the data stored in your attribute tables. It saves time from accessing every individual\n",
    "#attribute table you may have in a folder. It also makes your viewing experience a lot less cluttered so you don't need multiple attribute\n",
    "#tables open at once.\n",
    "\n",
    "fcList=arcpy.ListFeatureClasses()\n",
    "print(fcList)\n",
    "fcamtk=fcList[0]\n",
    "flds_amtk=arcpy.ListFields(fcamtk)\n",
    "for field in flds_amtk:\n",
    "    print(f'{field.name} has a type of {field.type} with a length of {field.length}')\n",
    "    print(field.name)"
   ]
  },
  {
   "cell_type": "code",
   "execution_count": null,
   "metadata": {},
   "outputs": [],
   "source": [
    "#For something new we will go through walk, describe, spatial references, and field object attributes"
   ]
  },
  {
   "cell_type": "code",
   "execution_count": null,
   "metadata": {},
   "outputs": [],
   "source": [
    "#Walk: can list your data following the hierarchy rules you have set in your workspace without having to view your folder connections.\n",
    "\n",
    "walk = arcpy.da.Walk(arcpy.env.workspace)\n",
    "for dirpath, dirnames, filenames in walk:\n",
    "    for filename in filenames:\n",
    "        print(filename)"
   ]
  },
  {
   "cell_type": "code",
   "execution_count": null,
   "metadata": {},
   "outputs": [],
   "source": [
    "#Describe: allows you to identify your spacial data type, shape type, spatial reference, etc. without having to search through the\n",
    "#properties of each individual item.\n",
    "\n",
    "data='C:/Users/khottendorf/OneDrive - University of Iowa/Documents/GEOG/chp9Data/chp9Data/railway'\n",
    "dscb=arcpy.Describe(data)\n",
    "if dscb.shapeType==\"Polygon\":\n",
    "    print(\"I am a polygone\")\n",
    "elif dscb.shapeType==\"Polyline\":\n",
    "    print(\"I am a polyline\")\n",
    "else:\n",
    "    print(\"I am neither a polyline or polygone\")"
   ]
  },
  {
   "cell_type": "code",
   "execution_count": null,
   "metadata": {},
   "outputs": [],
   "source": [
    "#Arc uses complex objects/classes to describe your data. Acessing and changing these in Arc can be time consuming, so we'll code it!"
   ]
  },
  {
   "cell_type": "code",
   "execution_count": null,
   "metadata": {},
   "outputs": [],
   "source": [
    "#Spatial Reference Object\n",
    "\n",
    "#You can set your spatial reference, i.e. a specific model used for measuring locations on the Earth's surface. There many different\n",
    "#spacial reference systems you can use as there are many different ways you can convert a sphere (Earth) into a flat surface (our map).\n",
    "#You will more about this later on in this course.\n",
    "\n",
    "#Set your spatial reference system\n",
    "spatialRef=arcpy.SpatialReference(\"Hawaii Albers Equal Area Conic\")\n",
    "\n",
    "#The spatial reference object has many properties you can easily access in arcpy. Often data come with a spatial reference system, so it\n",
    "#can be helpful to check what the data you downloaded is referencing\n",
    "print(spatialRef.name)\n",
    "print(spatialRef.XYTolerance)\n",
    "print(spatialRef.GCS)"
   ]
  },
  {
   "cell_type": "code",
   "execution_count": null,
   "metadata": {
    "scrolled": true
   },
   "outputs": [],
   "source": [
    "#Acessing your field object attributes without having to open an attribute table!\n",
    "fc='C:/Users/khottendorf/OneDrive - University of Iowa/Documents/GEOG/chp9Data/chp9Data/railway'\n",
    "desc=arcpy.Describe(fc)\n",
    "fields=desc.fields\n",
    "for field in fields:\n",
    "    print(field.name)\n",
    "    print(field.aliasName)\n",
    "    print(field.type)\n",
    "    if field.type==\"Double\":\n",
    "        print(field.scale)"
   ]
  },
  {
   "cell_type": "code",
   "execution_count": null,
   "metadata": {},
   "outputs": [],
   "source": [
    "import arcpy\n",
    "\n",
    "#Set your workspace, in other words pick where your notebook will be saved to and where you can draw data from. If in ArcMap it will\n",
    "#automatically save to the geodatabase that was created with your project.\n",
    "arcpy.env.workspace='C:/Users/khottendorf/OneDrive - University of Iowa/Documents/GEOG/chp9Data/chp9Data'\n",
    "\n",
    "#Printing your workspace can help you make sure that you did it correctly\n",
    "print(arcpy.env.workspace)\n",
    "\n",
    "#Use the ListFields function in order to print the data stored in your attribute tables. It saves time from accessing every individual\n",
    "#attribute table you may have in a folder. It also makes your viewing experience a lot less cluttered so you don't need multiple attribute\n",
    "#tables open at once.\n",
    "fcList=arcpy.ListFeatureClasses()\n",
    "print(fcList)\n",
    "fcamtk=fcList[0]\n",
    "flds_amtk=arcpy.ListFields(fcamtk)\n",
    "for field in flds_amtk:\n",
    "    print(f'{field.name} has a type of {field.type} with a length of {field.length}')\n",
    "    print(field.name)\n",
    "\n",
    "#For something new we will go through walk, describe, spatial references, and field object attributes\n",
    "\n",
    "#Walk: can list your data following the hierarchy rules you have set in your workspace without having to view your folder connections.\n",
    "walk = arcpy.da.Walk(arcpy.env.workspace)\n",
    "for dirpath, dirnames, filenames in walk:\n",
    "    for filename in filenames:\n",
    "        print(filename)\n",
    "\n",
    "#Describe: allows you to identify your spacial data type, shape type, spatial reference, etc. without having to search through the\n",
    "#properties of each individual item.\n",
    "data='C:/Users/khottendorf/OneDrive - University of Iowa/Documents/GEOG/chp9Data/chp9Data/railway'\n",
    "dscb=arcpy.Describe(data)\n",
    "if dscb.shapeType==\"Polygon\":\n",
    "    print(\"I am a polygone\")\n",
    "elif dscb.shapeType==\"Polyline\":\n",
    "    print(\"I am a polyline\")\n",
    "else:\n",
    "    print(\"I am neither a polyline or polygone\")\n",
    "\n",
    "#Arc uses complex objects/classes to describe your data. Acessing and changing these in Arc can be time consuming, so we'll code it!\n",
    "\n",
    "#Spatial Reference Object\n",
    "#You can set your spatial reference, i.e. a specific model used for measuring locations on the Earth's surface. There many different\n",
    "#spacial reference systems you can use as there are many different ways you can convert a sphere (Earth) into a flat surface (our map).\n",
    "#You will more about this later on in this course.\n",
    "\n",
    "#Set your spatial reference system\n",
    "spatialRef=arcpy.SpatialReference(\"Hawaii Albers Equal Area Conic\")\n",
    "\n",
    "#The spatial reference object has many properties you can easily access in arcpy. Often data come with a spatial reference system, so it\n",
    "#can be helpful to check what the data you downloaded is referencing\n",
    "print(spatialRef.name)\n",
    "print(spatialRef.XYTolerance)\n",
    "print(spatialRef.GCS)\n",
    "\n",
    "#Acessing your field object attributes without having to open an attribute table!\n",
    "fc='C:/Users/khottendorf/OneDrive - University of Iowa/Documents/GEOG/chp9Data/chp9Data/railway'\n",
    "desc=arcpy.Describe(fc)\n",
    "fields=desc.fields\n",
    "for field in fields:\n",
    "    print(field.name)\n",
    "    print(field.aliasName)\n",
    "    print(field.type)\n",
    "    if field.type==\"Double\":\n",
    "        print(field.scale)"
   ]
  },
  {
   "cell_type": "code",
   "execution_count": null,
   "metadata": {},
   "outputs": [],
   "source": []
  }
 ],
 "metadata": {
  "kernelspec": {
   "display_name": "ArcGISPro",
   "language": "Python",
   "name": "python3"
  },
  "language_info": {
   "file_extension": ".py",
   "name": "python",
   "version": "3"
  }
 },
 "nbformat": 4,
 "nbformat_minor": 2
}
